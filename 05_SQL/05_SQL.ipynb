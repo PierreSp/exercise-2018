{
 "cells": [
  {
   "cell_type": "markdown",
   "metadata": {},
   "source": [
    "# 5.SQL and Dataframes\n",
    "\n",
    "References:\n",
    "\n",
    "* Spark-SQL, <https://spark.apache.org/docs/latest/sql-programming-guide.html#datasets-and-dataframes>\n",
    "\n",
    "\n",
    "### 5.1  Example Walkthrough\n",
    "Follow the Spark SQL and Dataframes Examples below!\n",
    "\n",
    "### Initialize PySpark\n",
    "\n",
    "First, we use the findspark package to initialize PySpark."
   ]
  },
  {
   "cell_type": "code",
   "execution_count": 2,
   "metadata": {
    "collapsed": false
   },
   "outputs": [
    {
     "name": "stdout",
     "output_type": "stream",
     "text": [
      "PySpark initiated...\n"
     ]
    }
   ],
   "source": [
    "# Initialize PySpark\n",
    "APP_NAME = \"PySpark Lecture\"\n",
    "\n",
    "# If there is no SparkSession, create the environment\n",
    "try:\n",
    "    sc and spark\n",
    "except NameError as e:\n",
    "  #import findspark\n",
    "  #findspark.init()\n",
    "    import pyspark\n",
    "    import pyspark.sql\n",
    "    sc = pyspark.SparkContext()\n",
    "    spark = pyspark.sql.SparkSession(sc).builder.appName(APP_NAME).getOrCreate()\n",
    "\n",
    "print(\"PySpark initiated...\")"
   ]
  },
  {
   "cell_type": "markdown",
   "metadata": {},
   "source": [
    "### Hello, World!\n",
    "\n",
    "Loading data, mapping it and collecting the records into RAM..."
   ]
  },
  {
   "cell_type": "code",
   "execution_count": 4,
   "metadata": {
    "collapsed": false
   },
   "outputs": [
    {
     "data": {
      "text/plain": [
       "[[u'Russell Jurney', u'Relato', u'CEO'],\n",
       " [u'Florian Liebert', u'Mesosphere', u'CEO'],\n",
       " [u'Don Brown', u'Rocana', u'CIO'],\n",
       " [u'Steve Jobs', u'Apple', u'CEO'],\n",
       " [u'Donald Trump', u'The Trump Organization', u'CEO'],\n",
       " [u'Russell Jurney', u'Data Syndrome', u'Principal Consultant']]"
      ]
     },
     "execution_count": 4,
     "metadata": {},
     "output_type": "execute_result"
    }
   ],
   "source": [
    "# Load the text file using the SparkContext\n",
    "csv_lines = sc.textFile(\"../data/example.csv\")\n",
    "\n",
    "# Map the data to split the lines into a list\n",
    "data = csv_lines.map(lambda line: line.split(\",\"))\n",
    "\n",
    "# Collect the dataset into local RAM\n",
    "data.collect()"
   ]
  },
  {
   "cell_type": "markdown",
   "metadata": {},
   "source": [
    "### Creating Rows\n",
    "\n",
    "Creating `pyspark.sql.Rows` out of your data so you can create DataFrames..."
   ]
  },
  {
   "cell_type": "code",
   "execution_count": 8,
   "metadata": {
    "collapsed": true
   },
   "outputs": [],
   "source": [
    "from pyspark.sql import Row\n",
    "\n",
    "# Convert the CSV into a pyspark.sql.Row\n",
    "def csv_to_row(line):\n",
    "      parts = line.split(\",\")\n",
    "      row = Row(\n",
    "        name=parts[0],\n",
    "        company=parts[1],\n",
    "        title=parts[2]\n",
    "      )\n",
    "      return row\n",
    "\n",
    "# Apply the function to get rows in an RDD\n",
    "rows = csv_lines.map(csv_to_row)"
   ]
  },
  {
   "cell_type": "markdown",
   "metadata": {},
   "source": [
    "### Creating DataFrames from RDDs\n",
    "\n",
    "Using the `RDD.toDF()` method to create a dataframe, registering the `DataFrame` as a temporary table with Spark SQL, and counting the jobs per person using Spark SQL."
   ]
  },
  {
   "cell_type": "code",
   "execution_count": 9,
   "metadata": {
    "collapsed": false
   },
   "outputs": [
    {
     "name": "stdout",
     "output_type": "stream",
     "text": [
      "+---------------+-----+\n",
      "|           name|total|\n",
      "+---------------+-----+\n",
      "|   Donald Trump|    1|\n",
      "|Florian Liebert|    1|\n",
      "|      Don Brown|    1|\n",
      "| Russell Jurney|    2|\n",
      "|     Steve Jobs|    1|\n",
      "+---------------+-----+\n",
      "\n"
     ]
    },
    {
     "data": {
      "text/plain": [
       "[Row(name=u'Donald Trump', total=1),\n",
       " Row(name=u'Florian Liebert', total=1),\n",
       " Row(name=u'Don Brown', total=1),\n",
       " Row(name=u'Russell Jurney', total=2),\n",
       " Row(name=u'Steve Jobs', total=1)]"
      ]
     },
     "execution_count": 9,
     "metadata": {},
     "output_type": "execute_result"
    }
   ],
   "source": [
    "# Convert to a pyspark.sql.DataFrame\n",
    "rows_df = rows.toDF()\n",
    "\n",
    "# Register the DataFrame for Spark SQL\n",
    "rows_df.registerTempTable(\"executives\")\n",
    "\n",
    "# Generate a new DataFrame with SQL using the SparkSession\n",
    "job_counts = spark.sql(\"\"\"\n",
    "SELECT\n",
    "  name,\n",
    "  COUNT(*) AS total\n",
    "  FROM executives\n",
    "  GROUP BY name\n",
    "\"\"\")\n",
    "job_counts.show()\n",
    "\n",
    "# Go back to an RDD\n",
    "job_counts.rdd.collect()"
   ]
  },
  {
   "cell_type": "markdown",
   "metadata": {},
   "source": [
    "# 5.2/5.3 NASA DataSet\n",
    "\n",
    "5.2 Create a Spark-SQL table for the NASA Log files! \n",
    "\n",
    "     cat /data/NASA_access_log_Jul95 |awk -F' ' '{print \"\\\"\"$4 $5\"\\\",\"$(NF-1)\",\"$(NF)}' > nasa.csv\n",
    "\n",
    "\n",
    "5.3 Run an SQL query that outputs the number of occurrences of each HTTP response code!\n",
    "\n",
    "\n",
    "# On-Time Performance Dataset Exploration"
   ]
  },
  {
   "cell_type": "code",
   "execution_count": 4,
   "metadata": {},
   "outputs": [],
   "source": [
    "on_time_dataframe = spark.read.format('com.databricks.spark.csv')\\\n",
    "  .options(\n",
    "    header='true',\n",
    "    treatEmptyValuesAsNulls='true',\n",
    "  )\\\n",
    "  .load('../data/On_Time_On_Time_Performance_2015.csv.bz2')\n",
    "on_time_dataframe.registerTempTable(\"on_time_performance\")"
   ]
  },
  {
   "cell_type": "code",
   "execution_count": null,
   "metadata": {},
   "outputs": [],
   "source": [
    "trimmed_cast_performance = spark.sql(\"\"\"\n",
    "SELECT\n",
    "  Year, Quarter, Month, DayofMonth, DayOfWeek, FlightDate,\n",
    "  Carrier, TailNum, FlightNum,\n",
    "  Origin, OriginCityName, OriginState,\n",
    "  Dest, DestCityName, DestState,\n",
    "  DepTime, cast(DepDelay as float), cast(DepDelayMinutes as int),\n",
    "  cast(TaxiOut as float), cast(TaxiIn as float),\n",
    "  WheelsOff, WheelsOn,\n",
    "  ArrTime, cast(ArrDelay as float), cast(ArrDelayMinutes as float),\n",
    "  cast(Cancelled as int), cast(Diverted as int),\n",
    "  cast(ActualElapsedTime as float), cast(AirTime as float),\n",
    "  cast(Flights as int), cast(Distance as float),\n",
    "  cast(CarrierDelay as float), cast(WeatherDelay as float), cast(NASDelay as float),\n",
    "  cast(SecurityDelay as float), cast(LateAircraftDelay as float),\n",
    "  CRSDepTime, CRSArrTime\n",
    "FROM\n",
    "  on_time_performance\n",
    "\"\"\")"
   ]
  },
  {
   "cell_type": "code",
   "execution_count": null,
   "metadata": {},
   "outputs": [],
   "source": [
    "# Replace on_time_performance table with our new, trimmed table and show its contents\n",
    "\n",
    "trimmed_cast_performance.show()\n",
    "\n",
    "# View records on filesystem\n",
    "# gunzip -c data/on_time_performance.jsonl.gz/part-00000.gz | head\n",
    "\n",
    "\n",
    "\n",
    "# Load the parquet file back\n",
    "on_time_dataframe = spark.read.parquet('data/on_time_performance.parquet')\n",
    "on_time_dataframe.show()"
   ]
  },
  {
   "cell_type": "code",
   "execution_count": null,
   "metadata": {},
   "outputs": [],
   "source": [
    "# Verify we can sum numeric columns\n",
    "trimmed_cast_performance.registerTempTable(\"on_time_performance\")\n",
    "\n",
    "spark.sql(\"\"\"SELECT\n",
    "  SUM(WeatherDelay), SUM(CarrierDelay), SUM(NASDelay),\n",
    "  SUM(SecurityDelay), SUM(LateAircraftDelay)\n",
    "FROM on_time_performance\n",
    "\"\"\").show()"
   ]
  },
  {
   "cell_type": "markdown",
   "metadata": {},
   "source": [
    "Write files in different formats"
   ]
  },
  {
   "cell_type": "code",
   "execution_count": null,
   "metadata": {},
   "outputs": [],
   "source": [
    "# Save records as gzipped json lines\n",
    "trimmed_cast_performance.toJSON()\\\n",
    "  .saveAsTextFile(\n",
    "    'data/on_time_performance.jsonl.gz',\n",
    "    'org.apache.hadoop.io.compress.GzipCodec'\n",
    ")"
   ]
  },
  {
   "cell_type": "code",
   "execution_count": null,
   "metadata": {},
   "outputs": [],
   "source": [
    "# Save records using Parquet\n",
    "trimmed_cast_performance.write.mode(\"overwrite\").parquet(\"data/on_time_performance.parquet\")"
   ]
  },
  {
   "cell_type": "code",
   "execution_count": null,
   "metadata": {},
   "outputs": [],
   "source": [
    "# Load JSON records back\n",
    "on_time_dataframe = spark.read.json('data/on_time_performance.jsonl.gz')\n",
    "on_time_dataframe.show()"
   ]
  }
 ],
 "metadata": {
  "anaconda-cloud": {},
  "kernelspec": {
   "display_name": "Python 2",
   "language": "python",
   "name": "python2"
  },
  "language_info": {
   "codemirror_mode": {
    "name": "ipython",
    "version": 2
   },
   "file_extension": ".py",
   "mimetype": "text/x-python",
   "name": "python",
   "nbconvert_exporter": "python",
   "pygments_lexer": "ipython2",
   "version": "2.7.14"
  }
 },
 "nbformat": 4,
 "nbformat_minor": 2
}
