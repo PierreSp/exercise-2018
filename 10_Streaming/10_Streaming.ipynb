{
 "cells": [
  {
   "cell_type": "markdown",
   "metadata": {},
   "source": [
    "# 10. Streaming"
   ]
  },
  {
   "cell_type": "code",
   "execution_count": 1,
   "metadata": {},
   "outputs": [
    {
     "name": "stderr",
     "output_type": "stream",
     "text": [
      "No handlers could be found for logger \"pykafka.cluster\"\n"
     ]
    }
   ],
   "source": [
    "from pykafka import KafkaClient\n",
    "import numpy as np\n",
    "import time\n",
    "import datetime\n",
    "import dateutil.parser\n",
    "import ast\n",
    "import sklearn.cluster\n",
    "import threading\n",
    "from threading import Thread\n",
    "import datetime\n",
    "import pickle\n",
    "\n",
    "zkKafka='mpp3r03c04s09:2181'\n",
    "client = KafkaClient(zookeeper_hosts=zkKafka)\n",
    "#client = KafkaClient(hosts='c251-138.wrangler.tacc.utexas.edu:9092')\n",
    "topic = client.topics['Throughput']\n",
    "producer = topic.get_sync_producer()\n",
    "consumer = topic.get_simple_consumer()"
   ]
  },
  {
   "cell_type": "code",
   "execution_count": 2,
   "metadata": {},
   "outputs": [
    {
     "data": {
      "text/plain": [
       "{0: <pykafka.broker.Broker at 0x2b536318ed10 (host=mpp3r03c04s09, port=9092, id=0)>}"
      ]
     },
     "execution_count": 2,
     "metadata": {},
     "output_type": "execute_result"
    }
   ],
   "source": [
    "client.brokers"
   ]
  },
  {
   "cell_type": "code",
   "execution_count": null,
   "metadata": {},
   "outputs": [],
   "source": [
    "message = consumer.consume(block=True)"
   ]
  }
 ],
 "metadata": {
  "kernelspec": {
   "display_name": "Python 2",
   "language": "python",
   "name": "python2"
  },
  "language_info": {
   "codemirror_mode": {
    "name": "ipython",
    "version": 2
   },
   "file_extension": ".py",
   "mimetype": "text/x-python",
   "name": "python",
   "nbconvert_exporter": "python",
   "pygments_lexer": "ipython2",
   "version": "2.7.14"
  }
 },
 "nbformat": 4,
 "nbformat_minor": 2
}
