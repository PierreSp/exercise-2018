{
 "cells": [
  {
   "cell_type": "markdown",
   "metadata": {},
   "source": [
    "# 6. Data Exploration and Preparation\n",
    "\n",
    "6.1 Convert the following dataset into a dataset that conforms to the tidy data convention.\n",
    "\n",
    "Wickham, Tidy Data, <https://www.jstatsoft.org/article/view/v059i10/v59i10.pdf>\n"
   ]
  },
  {
   "cell_type": "code",
   "execution_count": 4,
   "metadata": {},
   "outputs": [],
   "source": [
    "on_time_dataframe = spark.read.format('com.databricks.spark.csv')\\\n",
    "  .options(\n",
    "    header='true',\n",
    "    treatEmptyValuesAsNulls='true',\n",
    "  )\\\n",
    "  .load('../data/On_Time_On_Time_Performance_2015.csv.bz2')\n",
    "on_time_dataframe.registerTempTable(\"on_time_performance\")"
   ]
  },
  {
   "cell_type": "code",
   "execution_count": null,
   "metadata": {},
   "outputs": [],
   "source": []
  },
  {
   "cell_type": "code",
   "execution_count": null,
   "metadata": {},
   "outputs": [],
   "source": [
    "trimmed_cast_performance = spark.sql(\"\"\"\n",
    "SELECT\n",
    "  Year, Quarter, Month, DayofMonth, DayOfWeek, FlightDate,\n",
    "  Carrier, TailNum, FlightNum,\n",
    "  Origin, OriginCityName, OriginState,\n",
    "  Dest, DestCityName, DestState,\n",
    "  DepTime, cast(DepDelay as float), cast(DepDelayMinutes as int),\n",
    "  cast(TaxiOut as float), cast(TaxiIn as float),\n",
    "  WheelsOff, WheelsOn,\n",
    "  ArrTime, cast(ArrDelay as float), cast(ArrDelayMinutes as float),\n",
    "  cast(Cancelled as int), cast(Diverted as int),\n",
    "  cast(ActualElapsedTime as float), cast(AirTime as float),\n",
    "  cast(Flights as int), cast(Distance as float),\n",
    "  cast(CarrierDelay as float), cast(WeatherDelay as float), cast(NASDelay as float),\n",
    "  cast(SecurityDelay as float), cast(LateAircraftDelay as float),\n",
    "  CRSDepTime, CRSArrTime\n",
    "FROM\n",
    "  on_time_performance\n",
    "\"\"\")"
   ]
  },
  {
   "cell_type": "code",
   "execution_count": null,
   "metadata": {},
   "outputs": [],
   "source": [
    "# Replace on_time_performance table with our new, trimmed table and show its contents\n",
    "\n",
    "trimmed_cast_performance.show()\n",
    "\n",
    "\n",
    "\n",
    "# View records on filesystem\n",
    "# gunzip -c data/on_time_performance.jsonl.gz/part-00000.gz | head\n",
    "\n",
    "\n",
    "\n",
    "# Load the parquet file back\n",
    "on_time_dataframe = spark.read.parquet('data/on_time_performance.parquet')\n",
    "on_time_dataframe.show()"
   ]
  },
  {
   "cell_type": "code",
   "execution_count": null,
   "metadata": {},
   "outputs": [],
   "source": [
    "# Verify we can sum numeric columns\n",
    "trimmed_cast_performance.registerTempTable(\"on_time_performance\")\n",
    "\n",
    "spark.sql(\"\"\"SELECT\n",
    "  SUM(WeatherDelay), SUM(CarrierDelay), SUM(NASDelay),\n",
    "  SUM(SecurityDelay), SUM(LateAircraftDelay)\n",
    "FROM on_time_performance\n",
    "\"\"\").show()"
   ]
  },
  {
   "cell_type": "code",
   "execution_count": null,
   "metadata": {},
   "outputs": [],
   "source": [
    "# Save records as gzipped json lines\n",
    "trimmed_cast_performance.toJSON()\\\n",
    "  .saveAsTextFile(\n",
    "    'data/on_time_performance.jsonl.gz',\n",
    "    'org.apache.hadoop.io.compress.GzipCodec'\n",
    "  )"
   ]
  },
  {
   "cell_type": "code",
   "execution_count": null,
   "metadata": {},
   "outputs": [],
   "source": [
    "# Save records using Parquet\n",
    "trimmed_cast_performance.write.mode(\"overwrite\").parquet(\"data/on_time_performance.parquet\")\n"
   ]
  },
  {
   "cell_type": "code",
   "execution_count": null,
   "metadata": {},
   "outputs": [],
   "source": [
    "# Load JSON records back\n",
    "on_time_dataframe = spark.read.json('data/on_time_performance.jsonl.gz')\n",
    "on_time_dataframe.show()"
   ]
  }
 ],
 "metadata": {
  "kernelspec": {
   "display_name": "Python 2",
   "language": "python",
   "name": "python2"
  },
  "language_info": {
   "codemirror_mode": {
    "name": "ipython",
    "version": 2
   },
   "file_extension": ".py",
   "mimetype": "text/x-python",
   "name": "python",
   "nbconvert_exporter": "python",
   "pygments_lexer": "ipython2",
   "version": "2.7.14"
  }
 },
 "nbformat": 4,
 "nbformat_minor": 2
}
