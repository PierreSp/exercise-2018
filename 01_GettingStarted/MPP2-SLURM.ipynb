{
 "cells": [
  {
   "cell_type": "markdown",
   "metadata": {},
   "source": [
    "# SLURM Hello World"
   ]
  },
  {
   "cell_type": "code",
   "execution_count": 1,
   "metadata": {},
   "outputs": [
    {
     "name": "stdout",
     "output_type": "stream",
     "text": [
      "   Cluster     ControlHost  ControlPort   RPC     Share GrpJobs       GrpTRES GrpSubmit MaxJobs       MaxTRES MaxSubmit     MaxWall                  QOS   Def QOS \n",
      "---------- --------------- ------------ ----- --------- ------- ------------- --------- ------- ------------- --------- ----------- -------------------- --------- \n",
      "  bsbslurm     10.156.79.1         6996  7424         1                                                                                           normal           \n",
      "       gvs     10.156.79.1         6877  7424         1                                       1                       1                           normal           \n",
      "   hm_mech     10.156.79.1         7086  7424         1                                                                                           normal           \n",
      "   hugemem     10.156.79.1         7036  7424         1                                       8                                                   normal           \n",
      "     inter     10.156.79.1         6827  7424         1                                       1                                                   normal           \n",
      "   knltest                            0     0                                                                                                                      \n",
      "       lcg     10.156.79.1         7006  7424         1                                                                                           normal           \n",
      "   lmu_asc     10.156.79.1         6766  7424         1                                                                                           normal           \n",
      "   lmu_exc     10.156.79.1         7016  7424         1                                                                                           normal           \n",
      "      mpp1                            0  7424         1                                                                                           normal           \n",
      "      mpp2     10.156.79.1         7043  7424         1                                                              50                           normal           \n",
      "      myri     10.156.79.1         6886  7424         1                                                                                           normal           \n",
      "    serial     10.156.79.1         6973  7424         1                                                                                           normal           \n",
      "   tum_aer     10.156.79.1         7076  7424         1                                                                                           normal           \n",
      "   tum_ch2                            0  7424         1                                                                                           normal           \n",
      "  tum_chem     10.156.79.1         7056  7424         1                                                                                           normal           \n",
      "tum_geode+     10.156.79.1         6986  7424         1                                                                                           normal           \n",
      "       uv2                            0  7424         1                                                                                           normal           \n",
      "       uv3                            0  7424         1                                                                                           normal           \n"
     ]
    }
   ],
   "source": [
    "!sacctmgr list clusters"
   ]
  },
  {
   "cell_type": "code",
   "execution_count": 2,
   "metadata": {},
   "outputs": [
    {
     "name": "stdout",
     "output_type": "stream",
     "text": [
      "CLUSTER: mpp2\n",
      "PARTITION    AVAIL  TIMELIMIT NODES STATE  NODELIST\n",
      "mpp2_batch*  up    3-00:00:00     5 drain  mpp2r03c03s02,mpp2r07c04s01,mpp2r08c01s11,mpp2r08c04s[11-12]\n",
      "mpp2_batch*  up    3-00:00:00     6 resv   mpp2r02c01s[01-06]\n",
      "mpp2_batch*  up    3-00:00:00   319 alloc  mpp2r01c05s[01-12],mpp2r02c01s[07-12],mpp2r02c02s[01-12],mpp2r02c03s[01-12],mpp2r02c04s[01-12],mpp2r02c05s[01-12],mpp2r03c01s[01-12],mpp2r03c02s[01-12],mpp2r03c03s[01,03-12],mpp2r03c04s[01-12],mpp2r03c05s[01-12],mpp2r04c01s[01-12],mpp2r04c02s[01-12],mpp2r04c03s[01-12],mpp2r04c04s[01-12],mpp2r04c05s[01-12],mpp2r04c06s[01-06],mpp2r07c01s[01-12],mpp2r07c02s[01-12],mpp2r07c03s[01-12],mpp2r07c04s[02-12],mpp2r07c05s[01-12],mpp2r08c01s[01-10,12],mpp2r08c02s[01-12],mpp2r08c03s[01-12],mpp2r08c04s[01-10],mpp2r08c05s[01-12],mpp2r08c06s[01-12]\n"
     ]
    }
   ],
   "source": [
    "!sinfo --clusters=mpp2"
   ]
  },
  {
   "cell_type": "code",
   "execution_count": 3,
   "metadata": {},
   "outputs": [
    {
     "name": "stdout",
     "output_type": "stream",
     "text": [
      "CLUSTER: mpp2\n",
      "  JOBID PARTITION   NAME     USER        STATE       TIME TIME_LIMI  NODES NODELIST(REASON)\n"
     ]
    }
   ],
   "source": [
    "!squeue --clusters=mpp2 -u di57hah"
   ]
  },
  {
   "cell_type": "code",
   "execution_count": null,
   "metadata": {},
   "outputs": [],
   "source": []
  }
 ],
 "metadata": {
  "kernelspec": {
   "display_name": "Python 2",
   "language": "python",
   "name": "python2"
  },
  "language_info": {
   "codemirror_mode": {
    "name": "ipython",
    "version": 2
   },
   "file_extension": ".py",
   "mimetype": "text/x-python",
   "name": "python",
   "nbconvert_exporter": "python",
   "pygments_lexer": "ipython2",
   "version": "2.7.14"
  }
 },
 "nbformat": 4,
 "nbformat_minor": 2
}
