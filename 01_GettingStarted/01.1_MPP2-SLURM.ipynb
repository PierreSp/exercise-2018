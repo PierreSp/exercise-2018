{
 "cells": [
  {
   "cell_type": "markdown",
   "metadata": {},
   "source": [
    "# SLURM Hello World"
   ]
  },
  {
   "cell_type": "code",
   "execution_count": 1,
   "metadata": {},
   "outputs": [
    {
     "name": "stdout",
     "output_type": "stream",
     "text": [
      "   Cluster     ControlHost  ControlPort   RPC     Share GrpJobs       GrpTRES GrpSubmit MaxJobs       MaxTRES MaxSubmit     MaxWall                  QOS   Def QOS \n",
      "---------- --------------- ------------ ----- --------- ------- ------------- --------- ------- ------------- --------- ----------- -------------------- --------- \n",
      "  bsbslurm     10.156.79.1         6996  7424         1                                                                                           normal           \n",
      "       gvs     10.156.79.1         6877  7424         1                                       1                       1                           normal           \n",
      "   hm_mech     10.156.79.1         7086  7424         1                                                                                           normal           \n",
      "   hugemem     10.156.79.1         7036  7424         1                                       8                                                   normal           \n",
      "     inter     10.156.79.1         6827  7424         1                                       1                                                   normal           \n",
      "   knltest                            0     0                                                                                                                      \n",
      "       lcg     10.156.79.1         7006  7424         1                                                                                           normal           \n",
      "   lmu_asc     10.156.79.1         6766  7424         1                                                                                           normal           \n",
      "   lmu_exc     10.156.79.1         7016  7424         1                                                                                           normal           \n",
      "      mpp1                            0  7424         1                                                                                           normal           \n",
      "      mpp2     10.156.79.1         7043  7424         1                                                              50                           normal           \n",
      "      myri     10.156.79.1         6886  7424         1                                                                                           normal           \n",
      "    serial     10.156.79.1         6973  7424         1                                                                                           normal           \n",
      "   tum_aer     10.156.79.1         7076  7424         1                                                                                           normal           \n",
      "   tum_ch2                            0  7424         1                                                                                           normal           \n",
      "  tum_chem     10.156.79.1         7056  7424         1                                                                                           normal           \n",
      "tum_geode+     10.156.79.1         6986  7424         1                                                                                           normal           \n",
      "       uv2                            0  7424         1                                                                                           normal           \n",
      "       uv3                            0  7424         1                                                                                           normal           \n"
     ]
    }
   ],
   "source": [
    "!sacctmgr list clusters"
   ]
  },
  {
   "cell_type": "code",
   "execution_count": 2,
   "metadata": {},
   "outputs": [
    {
     "name": "stdout",
     "output_type": "stream",
     "text": [
      "CLUSTER: mpp3\n",
      "PARTITION   AVAIL  TIMELIMIT  NODES  STATE NODELIST\n",
      "mpp3_batch*    up 2-00:00:00      4  maint mpp3r01c02s[01-04]\n",
      "mpp3_batch*    up 2-00:00:00      1  drain mpp3r01c01s01\n",
      "mpp3_batch*    up 2-00:00:00      4   resv mpp3r01c01s[02-04],mpp3r02c03s05\n",
      "mpp3_batch*    up 2-00:00:00     61  alloc mpp3r01c01s[05-06,08-10],mpp3r01c02s[05,08-10],mpp3r01c03s[01-03,05-08],mpp3r01c04s[03-07],mpp3r01c05s[02-04,06],mpp3r02c01s[04,06-07,09-10],mpp3r02c02s[01,03-04,10],mpp3r02c03s[01-02,07,10],mpp3r02c04s[06,08-10],mpp3r02c05s[06,09],mpp3r03c01s[01-02,04,06],mpp3r03c02s02,mpp3r03c03s[05,07],mpp3r03c04s[01-10]\n",
      "mpp3_batch*    up 2-00:00:00     70   idle mpp3r01c01s07,mpp3r01c02s[06-07],mpp3r01c03s[04,09-10],mpp3r01c04s[01-02,08-10],mpp3r01c05s[01,05,07-10],mpp3r02c01s[01-03,05,08],mpp3r02c02s[02,05-09],mpp3r02c03s[03-04,06,08-09],mpp3r02c04s[01-05,07],mpp3r02c05s[01-05,07-08,10],mpp3r03c01s[03,05,07-10],mpp3r03c02s[01,03-10],mpp3r03c03s[01-04,06,08-10]\n",
      "mpp3_inter     up    2:00:00      8   idle mpp3r03c05s[01-08]\n",
      "mpp3_kcs       up 3-00:00:00      1 alloc* hlcpr05c01s02\n",
      "mpp3_kcs       up 3-00:00:00      2  alloc hlcpr05c01s[01,03]\n",
      "mpp3_kcs       up 3-00:00:00     11   resv hlcpr05c01s[04-10],hlcpr05c02s[01-04]\n",
      "mpp3_tus       up 3-00:00:00      2   resv htusr05c02s[05-06]\n",
      "lcg_serial     up 4-00:00:00     12  down* lxe[32,35-38,40-46]\n",
      "lcg_serial     up 4-00:00:00     17    mix hlcgr1nc01s01,lxe[15-18,20-30,33]\n"
     ]
    }
   ],
   "source": [
    "!sinfo --clusters=mpp3"
   ]
  },
  {
   "cell_type": "code",
   "execution_count": 1,
   "metadata": {},
   "outputs": [
    {
     "name": "stdout",
     "output_type": "stream",
     "text": [
      "CLUSTER: mpp3\n",
      "             JOBID PARTITION     NAME     USER ST       TIME  NODES NODELIST(REASON)\n",
      "            147269 mpp3_batc kafka.sl  di57hah  R    1:34:35      1 mpp3r03c04s09\n",
      "            147407 mpp3_batc    spark  di57hah  R       9:11      2 mpp3r03c04s[06-07]\n"
     ]
    }
   ],
   "source": [
    "!squeue --clusters=mpp3 -u di57hah"
   ]
  },
  {
   "cell_type": "code",
   "execution_count": null,
   "metadata": {},
   "outputs": [],
   "source": []
  }
 ],
 "metadata": {
  "kernelspec": {
   "display_name": "Python 2",
   "language": "python",
   "name": "python2"
  },
  "language_info": {
   "codemirror_mode": {
    "name": "ipython",
    "version": 2
   },
   "file_extension": ".py",
   "mimetype": "text/x-python",
   "name": "python",
   "nbconvert_exporter": "python",
   "pygments_lexer": "ipython2",
   "version": "2.7.14"
  }
 },
 "nbformat": 4,
 "nbformat_minor": 2
}
