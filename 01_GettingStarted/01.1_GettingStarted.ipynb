{
 "cells": [
  {
   "cell_type": "markdown",
   "metadata": {},
   "source": [
    "# Exercise 1 - HPC Environment and SLURM "
   ]
  },
  {
   "cell_type": "markdown",
   "metadata": {},
   "source": [
    "1.1. Create a Github Account and send account name to\n",
    "\n",
    "1.1. Please connect to the Jupyter Notebook Server! Clone the Exercise repository into your folder. Use Jupyter Notebooks to complete and document the exercises!\n",
    "\n",
    "\n",
    "1.2. Please log into CoolMuc3 cluster using your assigned user name!\n",
    "\n",
    "1.3. Please review the LRZ Guide for Job Processing: <https://www.lrz.de/services/compute/linux-cluster/job_processing/> on CoolMuc3! Make yourself familiar with basic SLURM commands."
   ]
  },
  {
   "cell_type": "code",
   "execution_count": 1,
   "metadata": {},
   "outputs": [
    {
     "name": "stdout",
     "output_type": "stream",
     "text": [
      "   Cluster     ControlHost  ControlPort   RPC     Share GrpJobs       GrpTRES GrpSubmit MaxJobs       MaxTRES MaxSubmit     MaxWall                  QOS   Def QOS \n",
      "---------- --------------- ------------ ----- --------- ------- ------------- --------- ------- ------------- --------- ----------- -------------------- --------- \n",
      "      mpp3     10.156.79.2         7096  7936         1                                                                                           normal           \n"
     ]
    }
   ],
   "source": [
    "!sacctmgr list clusters"
   ]
  },
  {
   "cell_type": "code",
   "execution_count": 3,
   "metadata": {},
   "outputs": [
    {
     "name": "stdout",
     "output_type": "stream",
     "text": [
      "CLUSTER: mpp3\n",
      "PARTITION   AVAIL  TIMELIMIT  NODES  STATE NODELIST\n",
      "mpp3_batch*    up 2-00:00:00      4  maint mpp3r01c02s[01-04]\n",
      "mpp3_batch*    up 2-00:00:00     71   comp mpp3r01c01s[06-07],mpp3r01c02s07,mpp3r01c03s[02,04-05,09],mpp3r01c04s[04,07-08],mpp3r01c05s[01,10],mpp3r02c01s[03-04,07-10],mpp3r02c02s[01-03,05-08,10],mpp3r02c03s[03,06-07,09-10],mpp3r02c04s[01,03-04,06,08],mpp3r02c05s[02-10],mpp3r03c01s[01,03-05,07,09-10],mpp3r03c02s[01,03-05,07-09],mpp3r03c03s[01-04,07-10],mpp3r03c04s[01-03,05]\n",
      "mpp3_batch*    up 2-00:00:00     34  drain mpp3r01c01s[05,08-10],mpp3r01c02s[08-10],mpp3r01c03s[06-07,10],mpp3r01c04s[01,06,09],mpp3r01c05s[05-09],mpp3r02c01s[01-02,05-06],mpp3r02c02s[04,09],mpp3r02c03s[02,08],mpp3r02c04s[02,07],mpp3r02c05s01,mpp3r03c01s06,mpp3r03c03s06,mpp3r03c04s[04,06-07]\n",
      "mpp3_batch*    up 2-00:00:00      5   resv mpp3r01c01s[01-04],mpp3r02c03s05\n",
      "mpp3_batch*    up 2-00:00:00     26  alloc mpp3r01c02s[05-06],mpp3r01c03s[01,03,08],mpp3r01c04s[02-03,05,10],mpp3r01c05s[02-04],mpp3r02c03s[01,04],mpp3r02c04s[05,09-10],mpp3r03c01s[02,08],mpp3r03c02s[02,06,10],mpp3r03c03s05,mpp3r03c04s[08-10]\n",
      "mpp3_inter     up    2:00:00      8   idle mpp3r03c05s[01-08]\n",
      "mpp3_kcs       up 3-00:00:00     14   resv hlcpr05c01s[01-10],hlcpr05c02s[01-04]\n",
      "mpp3_tus       up 3-00:00:00      2   resv htusr05c02s[05-06]\n",
      "lcg_serial     up 4-00:00:00     13    mix lxe[16-18,20-27,29-30]\n",
      "lcg_serial     up 4-00:00:00      1  alloc lxe28\n",
      "lcg_serial     up 4-00:00:00      3   resv hlcgr1nc01s01,lxe[15,33]\n"
     ]
    }
   ],
   "source": [
    "!sinfo --clusters=mpp3"
   ]
  },
  {
   "cell_type": "code",
   "execution_count": 5,
   "metadata": {},
   "outputs": [
    {
     "name": "stdout",
     "output_type": "stream",
     "text": [
      "CLUSTER: mpp3\n",
      "             JOBID PARTITION     NAME     USER ST       TIME  NODES NODELIST(REASON)\n",
      "            140405 mpp3_batc    spark  di57hah PD       0:00      1 (Priority)\n",
      "            140406 mpp3_batc    kafka  di57hah PD       0:00      1 (Priority)\n"
     ]
    }
   ],
   "source": [
    "!squeue --clusters=mpp3 -u di57hah"
   ]
  },
  {
   "cell_type": "code",
   "execution_count": 2,
   "metadata": {},
   "outputs": [
    {
     "name": "stdout",
     "output_type": "stream",
     "text": [
      "ReservationName=mpp3-Lehrveranstaltung StartTime=2018-03-30T08:00:00 EndTime=2018-04-07T20:00:00 Duration=8-12:00:00\n",
      "ReservationName=mpp3-LehrveranstaltungSetup StartTime=2018-03-29T08:00:00 EndTime=2018-03-30T07:00:00 Duration=23:00:00\n"
     ]
    }
   ],
   "source": [
    "!scontrol show reservation | grep Lehrveranstaltung"
   ]
  },
  {
   "cell_type": "markdown",
   "metadata": {},
   "source": [
    "1.4. Please formalate a SLURM Job Script that executes runs on two nodes and outputs the hostnames!\n",
    "\n"
   ]
  }
 ],
 "metadata": {
  "kernelspec": {
   "display_name": "Python 3",
   "language": "python",
   "name": "python3"
  },
  "language_info": {
   "codemirror_mode": {
    "name": "ipython",
    "version": 3
   },
   "file_extension": ".py",
   "mimetype": "text/x-python",
   "name": "python",
   "nbconvert_exporter": "python",
   "pygments_lexer": "ipython3",
   "version": "3.6.4"
  }
 },
 "nbformat": 4,
 "nbformat_minor": 2
}
