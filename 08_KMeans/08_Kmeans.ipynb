{
 "cells": [
  {
   "cell_type": "markdown",
   "metadata": {},
   "source": [
    "# 7. KMeans Cluster\n",
    "\n",
    "Data/Tools:\n",
    "\n",
    "Spark MLLib KMeans Example: https://spark.apache.org/docs/1.1.0/mllib-clustering.html\n",
    "Run KMeans on the provided example dataset!\n",
    "\n",
    "Validate the quality of the model using the sum of the squared error for each point!"
   ]
  }
 ],
 "metadata": {
  "kernelspec": {
   "display_name": "Python 2",
   "language": "python",
   "name": "python2"
  },
  "language_info": {
   "codemirror_mode": {
    "name": "ipython",
    "version": 2
   },
   "file_extension": ".py",
   "mimetype": "text/x-python",
   "name": "python",
   "nbconvert_exporter": "python",
   "pygments_lexer": "ipython2",
   "version": "2.7.14"
  }
 },
 "nbformat": 4,
 "nbformat_minor": 2
}
